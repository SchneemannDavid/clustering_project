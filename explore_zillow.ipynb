{
 "cells": [
  {
   "cell_type": "markdown",
   "id": "f7fef8a3",
   "metadata": {},
   "source": [
    "# Explore Exercises"
   ]
  },
  {
   "cell_type": "code",
   "execution_count": 1,
   "id": "376304dd",
   "metadata": {},
   "outputs": [],
   "source": [
    "# regular imports\n",
    "import pandas as pd\n",
    "import numpy as np\n",
    "import matplotlib.pyplot as plt\n",
    "import seaborn as sns\n",
    "import scipy\n",
    "import math\n",
    "import env\n",
    "\n",
    "# default pandas decimal number display format\n",
    "pd.options.display.float_format = '{:20,.2f}'.format\n",
    "\n",
    "import warnings\n",
    "warnings.filterwarnings(\"ignore\")\n",
    "\n",
    "# Wrangling\n",
    "from sklearn.model_selection import train_test_split, learning_curve\n",
    "\n",
    "# Personal Imports\n",
    "import acquire\n",
    "import prepare"
   ]
  },
  {
   "cell_type": "code",
   "execution_count": 2,
   "id": "ecd3a876",
   "metadata": {},
   "outputs": [
    {
     "name": "stdout",
     "output_type": "stream",
     "text": [
      "<class 'pandas.core.frame.DataFrame'>\n",
      "RangeIndex: 52441 entries, 0 to 52440\n",
      "Data columns (total 69 columns):\n",
      " #   Column                        Non-Null Count  Dtype  \n",
      "---  ------                        --------------  -----  \n",
      " 0   typeconstructiontypeid        76 non-null     float64\n",
      " 1   heatingorsystemtypeid         33935 non-null  float64\n",
      " 2   buildingclasstypeid           0 non-null      object \n",
      " 3   architecturalstyletypeid      70 non-null     float64\n",
      " 4   airconditioningtypeid         13638 non-null  float64\n",
      " 5   propertylandusetypeid         52441 non-null  float64\n",
      " 6   id                            52441 non-null  int64  \n",
      " 7   parcelid                      52441 non-null  int64  \n",
      " 8   logerror                      52441 non-null  float64\n",
      " 9   transactiondate               52441 non-null  object \n",
      " 10  id                            52441 non-null  int64  \n",
      " 11  parcelid                      52441 non-null  int64  \n",
      " 12  basementsqft                  47 non-null     float64\n",
      " 13  bathroomcnt                   52441 non-null  float64\n",
      " 14  bedroomcnt                    52441 non-null  float64\n",
      " 15  buildingqualitytypeid         33740 non-null  float64\n",
      " 16  calculatedbathnbr             52304 non-null  float64\n",
      " 17  decktypeid                    389 non-null    float64\n",
      " 18  finishedfloor1squarefeet      4381 non-null   float64\n",
      " 19  calculatedfinishedsquarefeet  52359 non-null  float64\n",
      " 20  finishedsquarefeet12          52194 non-null  float64\n",
      " 21  finishedsquarefeet13          0 non-null      object \n",
      " 22  finishedsquarefeet15          0 non-null      object \n",
      " 23  finishedsquarefeet50          4381 non-null   float64\n",
      " 24  finishedsquarefeet6           165 non-null    float64\n",
      " 25  fips                          52441 non-null  float64\n",
      " 26  fireplacecnt                  7243 non-null   float64\n",
      " 27  fullbathcnt                   52304 non-null  float64\n",
      " 28  garagecarcnt                  18015 non-null  float64\n",
      " 29  garagetotalsqft               18015 non-null  float64\n",
      " 30  hashottuborspa                1515 non-null   float64\n",
      " 31  latitude                      52441 non-null  float64\n",
      " 32  longitude                     52441 non-null  float64\n",
      " 33  lotsizesquarefeet             52072 non-null  float64\n",
      " 34  poolcnt                       11096 non-null  float64\n",
      " 35  poolsizesum                   867 non-null    float64\n",
      " 36  pooltypeid10                  444 non-null    float64\n",
      " 37  pooltypeid2                   1071 non-null   float64\n",
      " 38  pooltypeid7                   10009 non-null  float64\n",
      " 39  propertycountylandusecode     52441 non-null  object \n",
      " 40  propertyzoningdesc            33848 non-null  object \n",
      " 41  rawcensustractandblock        52441 non-null  float64\n",
      " 42  regionidcity                  51404 non-null  float64\n",
      " 43  regionidcounty                52441 non-null  float64\n",
      " 44  regionidneighborhood          19033 non-null  float64\n",
      " 45  regionidzip                   52415 non-null  float64\n",
      " 46  roomcnt                       52441 non-null  float64\n",
      " 47  storytypeid                   47 non-null     float64\n",
      " 48  threequarterbathnbr           6724 non-null   float64\n",
      " 49  unitcnt                       33847 non-null  float64\n",
      " 50  yardbuildingsqft17            1937 non-null   float64\n",
      " 51  yardbuildingsqft26            63 non-null     float64\n",
      " 52  yearbuilt                     52325 non-null  float64\n",
      " 53  numberofstories               14561 non-null  float64\n",
      " 54  fireplaceflag                 81 non-null     float64\n",
      " 55  structuretaxvaluedollarcnt    52357 non-null  float64\n",
      " 56  taxvaluedollarcnt             52440 non-null  float64\n",
      " 57  assessmentyear                52441 non-null  float64\n",
      " 58  landtaxvaluedollarcnt         52440 non-null  float64\n",
      " 59  taxamount                     52437 non-null  float64\n",
      " 60  taxdelinquencyflag            2079 non-null   object \n",
      " 61  taxdelinquencyyear            2079 non-null   float64\n",
      " 62  censustractandblock           52318 non-null  float64\n",
      " 63  propertylandusedesc           52441 non-null  object \n",
      " 64  airconditioningdesc           13638 non-null  object \n",
      " 65  architecturalstyledesc        70 non-null     object \n",
      " 66  buildingclassdesc             0 non-null      object \n",
      " 67  heatingorsystemdesc           33935 non-null  object \n",
      " 68  typeconstructiondesc          76 non-null     object \n",
      "dtypes: float64(52), int64(4), object(13)\n",
      "memory usage: 27.6+ MB\n"
     ]
    }
   ],
   "source": [
    "df = acquire.wrangle_zillow()\n",
    "df.info()"
   ]
  },
  {
   "cell_type": "code",
   "execution_count": 3,
   "id": "3f1686de",
   "metadata": {},
   "outputs": [
    {
     "data": {
      "text/html": [
       "<div>\n",
       "<style scoped>\n",
       "    .dataframe tbody tr th:only-of-type {\n",
       "        vertical-align: middle;\n",
       "    }\n",
       "\n",
       "    .dataframe tbody tr th {\n",
       "        vertical-align: top;\n",
       "    }\n",
       "\n",
       "    .dataframe thead th {\n",
       "        text-align: right;\n",
       "    }\n",
       "</style>\n",
       "<table border=\"1\" class=\"dataframe\">\n",
       "  <thead>\n",
       "    <tr style=\"text-align: right;\">\n",
       "      <th></th>\n",
       "      <th>typeconstructiontypeid</th>\n",
       "      <th>heatingorsystemtypeid</th>\n",
       "      <th>buildingclasstypeid</th>\n",
       "      <th>architecturalstyletypeid</th>\n",
       "      <th>airconditioningtypeid</th>\n",
       "      <th>propertylandusetypeid</th>\n",
       "      <th>id</th>\n",
       "      <th>parcelid</th>\n",
       "      <th>logerror</th>\n",
       "      <th>transactiondate</th>\n",
       "      <th>...</th>\n",
       "      <th>taxamount</th>\n",
       "      <th>taxdelinquencyflag</th>\n",
       "      <th>taxdelinquencyyear</th>\n",
       "      <th>censustractandblock</th>\n",
       "      <th>propertylandusedesc</th>\n",
       "      <th>airconditioningdesc</th>\n",
       "      <th>architecturalstyledesc</th>\n",
       "      <th>buildingclassdesc</th>\n",
       "      <th>heatingorsystemdesc</th>\n",
       "      <th>typeconstructiondesc</th>\n",
       "    </tr>\n",
       "  </thead>\n",
       "  <tbody>\n",
       "    <tr>\n",
       "      <th>0</th>\n",
       "      <td>NaN</td>\n",
       "      <td>NaN</td>\n",
       "      <td>None</td>\n",
       "      <td>NaN</td>\n",
       "      <td>NaN</td>\n",
       "      <td>261.00</td>\n",
       "      <td>0</td>\n",
       "      <td>14297519</td>\n",
       "      <td>0.03</td>\n",
       "      <td>2017-01-01</td>\n",
       "      <td>...</td>\n",
       "      <td>11,013.72</td>\n",
       "      <td>None</td>\n",
       "      <td>NaN</td>\n",
       "      <td>60,590,630,072,012.00</td>\n",
       "      <td>Single Family Residential</td>\n",
       "      <td>None</td>\n",
       "      <td>None</td>\n",
       "      <td>None</td>\n",
       "      <td>None</td>\n",
       "      <td>None</td>\n",
       "    </tr>\n",
       "    <tr>\n",
       "      <th>1</th>\n",
       "      <td>NaN</td>\n",
       "      <td>NaN</td>\n",
       "      <td>None</td>\n",
       "      <td>NaN</td>\n",
       "      <td>NaN</td>\n",
       "      <td>261.00</td>\n",
       "      <td>1</td>\n",
       "      <td>17052889</td>\n",
       "      <td>0.06</td>\n",
       "      <td>2017-01-01</td>\n",
       "      <td>...</td>\n",
       "      <td>5,672.48</td>\n",
       "      <td>None</td>\n",
       "      <td>NaN</td>\n",
       "      <td>61,110,010,023,006.00</td>\n",
       "      <td>Single Family Residential</td>\n",
       "      <td>None</td>\n",
       "      <td>None</td>\n",
       "      <td>None</td>\n",
       "      <td>None</td>\n",
       "      <td>None</td>\n",
       "    </tr>\n",
       "    <tr>\n",
       "      <th>2</th>\n",
       "      <td>NaN</td>\n",
       "      <td>NaN</td>\n",
       "      <td>None</td>\n",
       "      <td>NaN</td>\n",
       "      <td>NaN</td>\n",
       "      <td>261.00</td>\n",
       "      <td>2</td>\n",
       "      <td>14186244</td>\n",
       "      <td>0.01</td>\n",
       "      <td>2017-01-01</td>\n",
       "      <td>...</td>\n",
       "      <td>6,488.30</td>\n",
       "      <td>None</td>\n",
       "      <td>NaN</td>\n",
       "      <td>60,590,218,022,012.00</td>\n",
       "      <td>Single Family Residential</td>\n",
       "      <td>None</td>\n",
       "      <td>None</td>\n",
       "      <td>None</td>\n",
       "      <td>None</td>\n",
       "      <td>None</td>\n",
       "    </tr>\n",
       "    <tr>\n",
       "      <th>3</th>\n",
       "      <td>NaN</td>\n",
       "      <td>2.00</td>\n",
       "      <td>None</td>\n",
       "      <td>NaN</td>\n",
       "      <td>NaN</td>\n",
       "      <td>261.00</td>\n",
       "      <td>3</td>\n",
       "      <td>12177905</td>\n",
       "      <td>-0.10</td>\n",
       "      <td>2017-01-01</td>\n",
       "      <td>...</td>\n",
       "      <td>1,777.51</td>\n",
       "      <td>None</td>\n",
       "      <td>NaN</td>\n",
       "      <td>60,373,001,001,006.00</td>\n",
       "      <td>Single Family Residential</td>\n",
       "      <td>None</td>\n",
       "      <td>None</td>\n",
       "      <td>None</td>\n",
       "      <td>Central</td>\n",
       "      <td>None</td>\n",
       "    </tr>\n",
       "    <tr>\n",
       "      <th>4</th>\n",
       "      <td>NaN</td>\n",
       "      <td>2.00</td>\n",
       "      <td>None</td>\n",
       "      <td>NaN</td>\n",
       "      <td>1.00</td>\n",
       "      <td>261.00</td>\n",
       "      <td>6</td>\n",
       "      <td>12095076</td>\n",
       "      <td>-0.00</td>\n",
       "      <td>2017-01-01</td>\n",
       "      <td>...</td>\n",
       "      <td>9,516.26</td>\n",
       "      <td>None</td>\n",
       "      <td>NaN</td>\n",
       "      <td>60,374,608,001,014.00</td>\n",
       "      <td>Single Family Residential</td>\n",
       "      <td>Central</td>\n",
       "      <td>None</td>\n",
       "      <td>None</td>\n",
       "      <td>Central</td>\n",
       "      <td>None</td>\n",
       "    </tr>\n",
       "  </tbody>\n",
       "</table>\n",
       "<p>5 rows × 69 columns</p>\n",
       "</div>"
      ],
      "text/plain": [
       "   typeconstructiontypeid  heatingorsystemtypeid buildingclasstypeid  \\\n",
       "0                     NaN                    NaN                None   \n",
       "1                     NaN                    NaN                None   \n",
       "2                     NaN                    NaN                None   \n",
       "3                     NaN                   2.00                None   \n",
       "4                     NaN                   2.00                None   \n",
       "\n",
       "   architecturalstyletypeid  airconditioningtypeid  propertylandusetypeid  id  \\\n",
       "0                       NaN                    NaN                 261.00   0   \n",
       "1                       NaN                    NaN                 261.00   1   \n",
       "2                       NaN                    NaN                 261.00   2   \n",
       "3                       NaN                    NaN                 261.00   3   \n",
       "4                       NaN                   1.00                 261.00   6   \n",
       "\n",
       "   parcelid             logerror transactiondate  ...            taxamount  \\\n",
       "0  14297519                 0.03      2017-01-01  ...            11,013.72   \n",
       "1  17052889                 0.06      2017-01-01  ...             5,672.48   \n",
       "2  14186244                 0.01      2017-01-01  ...             6,488.30   \n",
       "3  12177905                -0.10      2017-01-01  ...             1,777.51   \n",
       "4  12095076                -0.00      2017-01-01  ...             9,516.26   \n",
       "\n",
       "   taxdelinquencyflag  taxdelinquencyyear   censustractandblock  \\\n",
       "0                None                 NaN 60,590,630,072,012.00   \n",
       "1                None                 NaN 61,110,010,023,006.00   \n",
       "2                None                 NaN 60,590,218,022,012.00   \n",
       "3                None                 NaN 60,373,001,001,006.00   \n",
       "4                None                 NaN 60,374,608,001,014.00   \n",
       "\n",
       "         propertylandusedesc  airconditioningdesc  architecturalstyledesc  \\\n",
       "0  Single Family Residential                 None                    None   \n",
       "1  Single Family Residential                 None                    None   \n",
       "2  Single Family Residential                 None                    None   \n",
       "3  Single Family Residential                 None                    None   \n",
       "4  Single Family Residential              Central                    None   \n",
       "\n",
       "   buildingclassdesc  heatingorsystemdesc  typeconstructiondesc  \n",
       "0               None                 None                  None  \n",
       "1               None                 None                  None  \n",
       "2               None                 None                  None  \n",
       "3               None              Central                  None  \n",
       "4               None              Central                  None  \n",
       "\n",
       "[5 rows x 69 columns]"
      ]
     },
     "execution_count": 3,
     "metadata": {},
     "output_type": "execute_result"
    }
   ],
   "source": [
    "df.head()"
   ]
  },
  {
   "cell_type": "code",
   "execution_count": 4,
   "id": "30aef3b7",
   "metadata": {},
   "outputs": [],
   "source": [
    "# Potential function for removing properties other than single unit properties\n",
    "def trim_bad_data_zillow(df):\n",
    "    # If it's not single unit, it's not a single family home.\n",
    "    df = df[~(df.unitcnt > 1)]\n",
    "    # If the lot size is smaller than the finished square feet, it's probably bad data or not a single family home\n",
    "    df = df[~(df.lotsizesquarefeet < df.calculatedfinishedsquarefeet)]\n",
    "    # If the finished square feet is less than 500 it is likeley an apartment, or bad data\n",
    "    df = df[~(df.calculatedfinishedsquarefeet < 500)]\n",
    "    # If there are no bedrooms, likely a loft or bad data\n",
    "    df = df[~(df.bedroomcnt < 1)]\n",
    "    # Drop duplicate parcels\n",
    "    df = df.drop_duplicates(subset='parcelid')\n",
    "    return df\n",
    "\n",
    "\n",
    "#Dropping columns with an inordinate number of nulls (rendering variable essentially useless)\n",
    "def drop_bad_columns(df):\n",
    "    df = df.drop(columns = [\n",
    "        'typeconstructiontypeid',\n",
    "        'heatingorsystemtypeid',\n",
    "        'buildingclasstypeid',\n",
    "        'architecturalstyletypeid',\n",
    "        'airconditioningtypeid',\n",
    "        'propertylandusetypeid',\n",
    "        'basementsqft',\n",
    "        'decktypeid',\n",
    "        'finishedfloor1squarefeet',\n",
    "        'finishedsquarefeet13',\n",
    "        'finishedsquarefeet15',\n",
    "        'finishedsquarefeet50',\n",
    "        'finishedsquarefeet6',\n",
    "        'fireplacecnt',\n",
    "        'hashottuborspa',\n",
    "        'poolsizesum',\n",
    "        'pooltypeid10',\n",
    "        'pooltypeid2',\n",
    "        'pooltypeid7',\n",
    "        'storytypeid',\n",
    "        'yardbuildingsqft17',\n",
    "        'yardbuildingsqft26',\n",
    "        'numberofstories',\n",
    "        'fireplaceflag',\n",
    "        'taxdelinquencyflag',\n",
    "        'taxdelinquencyyear',\n",
    "        'architecturalstyledesc',\n",
    "        'buildingclassdesc',\n",
    "        'typeconstructiondesc',\n",
    "        'buildingqualitytypeid',\n",
    "        'propertyzoningdesc',\n",
    "        'rawcensustractandblock',\n",
    "        'regionidneighborhood',\n",
    "        'threequarterbathnbr',\n",
    "        'airconditioningdesc',\n",
    "        'heatingorsystemdesc',\n",
    "        'threequarterbathnbr'\n",
    "        ],\n",
    "        axis=1)\n",
    "\n",
    "    return df\n",
    "    \n",
    "def drop_nulls(df):\n",
    "    # Change all remaining null/nan values to 0 or the variable mean, depending on best use case\n",
    "    df['poolcnt'] = df['poolcnt'].fillna(0)\n",
    "    df['garagecarcnt'] = df['garagecarcnt'].fillna(0)\n",
    "    df['garagetotalsqft'] = df['garagetotalsqft'].fillna(0)\n",
    "    df['lotsizesquarefeet'] = df['lotsizesquarefeet'].fillna(value=df['lotsizesquarefeet'].mean())\n",
    "    df['regionidcity'] = df['regionidcity'].fillna(0)\n",
    "    df['unitcnt'] = df['unitcnt'].fillna(0)\n",
    "\n",
    "    return df\n",
    "\n",
    "def handle_nulls(df):    \n",
    "    # We keep 99.41% of the data after dropping nulls\n",
    "    # round(df.dropna().shape[0] / df.shape[0], 4) returned .9941\n",
    "    df = df.dropna()\n",
    "    return df\n",
    "\n",
    "\n",
    "def optimize_types(df):\n",
    "    # Convert some columns to integers for optimization\n",
    "    # fips, yearbuilt, and bedrooms, taxvaluedollarcnt, and calculatedfinishedsquarefeet can be integers\n",
    "    df[\"fips\"] = df[\"fips\"].astype(int)\n",
    "    df[\"yearbuilt\"] = df[\"yearbuilt\"].astype(int)\n",
    "    df[\"bedroomcnt\"] = df[\"bedroomcnt\"].astype(int)    \n",
    "    df[\"taxvaluedollarcnt\"] = df[\"taxvaluedollarcnt\"].astype(int)\n",
    "    df[\"calculatedfinishedsquarefeet\"] = df[\"calculatedfinishedsquarefeet\"].astype(int)\n",
    "    return df\n",
    "\n",
    "\n",
    "def handle_outliers(df):\n",
    "    \"\"\"Manually handle outliers that do not represent properties likely for 99% of buyers and zillow visitors\"\"\"\n",
    "    df = df[df.bathroomcnt <= 6]\n",
    "    \n",
    "    df = df[df.bedroomcnt <= 6]\n",
    "\n",
    "    df = df[df.taxvaluedollarcnt < 1_500_000]\n",
    "\n",
    "    return df\n",
    "\n",
    "def clean_variables(df):\n",
    "    # Drop 'taxamount' column (variable is inconsistent based on time and location of collected value, could lead to poor analysis)\n",
    "    # Rename columns and 'fips' values to reflect actual location (to solidify column as categorical variable)\n",
    "    df = df.drop(columns = 'taxamount')\n",
    "    df = df.rename(columns = {'bedroomcnt':'bedrooms', \n",
    "                              'bathroomcnt':'bathrooms', \n",
    "                              'calculatedfinishedsquarefeet':'sq_ft', \n",
    "                              'taxvaluedollarcnt':'home_value', \n",
    "                              'yearbuilt':'year_built', \n",
    "                              'fips':'location',\n",
    "                              'fullbathcnt':'full_bathrooms',\n",
    "                              'garagecarcnt':'garage_spaces',\n",
    "                              'lotsizesquarefeet':'lot_sq_ft'\n",
    "                             })\n",
    "    df.location = df.location.replace(to_replace={6037:'LA County', 6059:'Orange County', 6111:'Ventura County'})\n",
    "\n",
    "    return df \n",
    "\n",
    "def feature_engineering(df):\n",
    "    # Bin `year_built` by decade\n",
    "    df[\"decade_built\"] = pd.cut(x=df[\"year_built\"], bins=[1800, 1899, 1909, 1919, 1929, 1939, 1949, 1959, 1969, 1979, 1989, 1999, 2009], labels=['1800s', '1900s', '10s', '20s', '30s', '40s', '50s', '60s', '70s', '80s', '90s', '2000s'])\n",
    "    # Convert categorical variable to numeric var\n",
    "    df['county_encoded'] = df.location.map({'LA County': 0, 'Orange County': 1, 'Ventura County': 2})\n",
    "\n",
    "    df = df.dropna()\n",
    "\n",
    "    return df\n",
    "\n",
    "# Split for Exploration\n",
    "\n",
    "## \n",
    "# Train, Validate, Test Split Function: for exploration\n",
    "def zillow_split_explore(df):\n",
    "    '''\n",
    "    This function performs split on telco data, stratifying on churn.\n",
    "    Returns train, validate, and test dfs.\n",
    "    '''\n",
    "    train_validate, test = train_test_split(df, test_size=.2,\n",
    "                                        random_state=123)\n",
    "    train, validate = train_test_split(train_validate, test_size=.3,\n",
    "                                   random_state=123)\n",
    "    return train, validate, test\n",
    "\n",
    "### ------------------------------------------------------------------------\n",
    "\n",
    "# Split for Modeling: X & Y dfs\n",
    "def zillow_split_model(df):\n",
    "    '''\n",
    "    This function performs split on telco data, stratifying on churn.\n",
    "    Returns both X and y train, validate, and test dfs\n",
    "    '''\n",
    "    \n",
    "    train_validate, test = train_test_split(df, test_size=.2,\n",
    "                                        random_state=123)\n",
    "    train, validate = train_test_split(train_validate, test_size=.3,\n",
    "                                   random_state=123)\n",
    "\n",
    "    # Splitting train, validate, and test dfs on x and y\n",
    "    x_train = train.drop(columns=['home_value'])\n",
    "    x_validate = validate.drop(columns=['home_value'])\n",
    "    x_test = test.drop(columns=['home_value'])\n",
    "\n",
    "    y_train = train['home_value']\n",
    "    y_validate = validate['home_value']\n",
    "    y_test = test['home_value']\n",
    "    \n",
    "    return x_train, y_train, x_validate, y_validate, x_test, y_test\n",
    "\n",
    "\n",
    "def prep_zillow(df):\n",
    "    \"\"\"\n",
    "    Handles nulls\n",
    "    optimizes or fixes data types\n",
    "    handles outliers w/ manual logic\n",
    "    clean variables via dropping columns and renaming features\n",
    "    includes feature engineering \n",
    "    returns a clean dataframe\n",
    "    Splits df into train, validate, test, and associated dfs on x and y \n",
    "    \"\"\"\n",
    "\n",
    "    df = drop_bad_columns(df)\n",
    "\n",
    "    df = drop_nulls(df)\n",
    "\n",
    "    df = handle_nulls(df)\n",
    "\n",
    "    df = optimize_types(df)\n",
    "\n",
    "    df = handle_outliers(df)\n",
    "\n",
    "    df = clean_variables(df)\n",
    "\n",
    "    df = feature_engineering(df)\n",
    "\n",
    "    train, validate, test = zillow_split_explore(df)\n",
    "\n",
    "    x_train, y_train, x_validate, y_validate, x_test, y_test = zillow_split_model(df)\n",
    "\n",
    "    # df.to_csv(\"zillow.csv\", index=False)\n",
    "\n",
    "    return df, train, validate, test, x_train, y_train, x_validate, y_validate, x_test, y_test\n"
   ]
  },
  {
   "cell_type": "code",
   "execution_count": 5,
   "id": "2ab9a049",
   "metadata": {},
   "outputs": [],
   "source": [
    "df, train, validate, test, x_train, y_train, x_validate, y_validate, x_test, y_test = prepare.prep_zillow(df)"
   ]
  },
  {
   "cell_type": "code",
   "execution_count": 6,
   "id": "c758d575",
   "metadata": {},
   "outputs": [
    {
     "name": "stdout",
     "output_type": "stream",
     "text": [
      "(48267, 34)\n",
      "(27029, 34)\n",
      "(11584, 34)\n",
      "(9654, 34)\n"
     ]
    }
   ],
   "source": [
    "print(df.shape)\n",
    "print(train.shape)\n",
    "print(validate.shape)\n",
    "print(test.shape)"
   ]
  },
  {
   "cell_type": "code",
   "execution_count": 7,
   "id": "001b29aa",
   "metadata": {},
   "outputs": [
    {
     "data": {
      "text/html": [
       "<div>\n",
       "<style scoped>\n",
       "    .dataframe tbody tr th:only-of-type {\n",
       "        vertical-align: middle;\n",
       "    }\n",
       "\n",
       "    .dataframe tbody tr th {\n",
       "        vertical-align: top;\n",
       "    }\n",
       "\n",
       "    .dataframe thead th {\n",
       "        text-align: right;\n",
       "    }\n",
       "</style>\n",
       "<table border=\"1\" class=\"dataframe\">\n",
       "  <thead>\n",
       "    <tr style=\"text-align: right;\">\n",
       "      <th></th>\n",
       "      <th>id</th>\n",
       "      <th>parcelid</th>\n",
       "      <th>logerror</th>\n",
       "      <th>transactiondate</th>\n",
       "      <th>id</th>\n",
       "      <th>parcelid</th>\n",
       "      <th>bathrooms</th>\n",
       "      <th>bedrooms</th>\n",
       "      <th>calculatedbathnbr</th>\n",
       "      <th>sq_ft</th>\n",
       "      <th>...</th>\n",
       "      <th>unitcnt</th>\n",
       "      <th>year_built</th>\n",
       "      <th>structuretaxvaluedollarcnt</th>\n",
       "      <th>home_value</th>\n",
       "      <th>assessmentyear</th>\n",
       "      <th>landtaxvaluedollarcnt</th>\n",
       "      <th>censustractandblock</th>\n",
       "      <th>propertylandusedesc</th>\n",
       "      <th>decade_built</th>\n",
       "      <th>county_encoded</th>\n",
       "    </tr>\n",
       "  </thead>\n",
       "  <tbody>\n",
       "    <tr>\n",
       "      <th>0</th>\n",
       "      <td>0</td>\n",
       "      <td>14297519</td>\n",
       "      <td>0.03</td>\n",
       "      <td>2017-01-01</td>\n",
       "      <td>1727539</td>\n",
       "      <td>14297519</td>\n",
       "      <td>3.50</td>\n",
       "      <td>4</td>\n",
       "      <td>3.50</td>\n",
       "      <td>3100</td>\n",
       "      <td>...</td>\n",
       "      <td>0.00</td>\n",
       "      <td>1998</td>\n",
       "      <td>485,713.00</td>\n",
       "      <td>1023282</td>\n",
       "      <td>2,016.00</td>\n",
       "      <td>537,569.00</td>\n",
       "      <td>60,590,630,072,012.00</td>\n",
       "      <td>Single Family Residential</td>\n",
       "      <td>90s</td>\n",
       "      <td>1</td>\n",
       "    </tr>\n",
       "    <tr>\n",
       "      <th>1</th>\n",
       "      <td>1</td>\n",
       "      <td>17052889</td>\n",
       "      <td>0.06</td>\n",
       "      <td>2017-01-01</td>\n",
       "      <td>1387261</td>\n",
       "      <td>17052889</td>\n",
       "      <td>1.00</td>\n",
       "      <td>2</td>\n",
       "      <td>1.00</td>\n",
       "      <td>1465</td>\n",
       "      <td>...</td>\n",
       "      <td>0.00</td>\n",
       "      <td>1967</td>\n",
       "      <td>88,000.00</td>\n",
       "      <td>464000</td>\n",
       "      <td>2,016.00</td>\n",
       "      <td>376,000.00</td>\n",
       "      <td>61,110,010,023,006.00</td>\n",
       "      <td>Single Family Residential</td>\n",
       "      <td>60s</td>\n",
       "      <td>2</td>\n",
       "    </tr>\n",
       "    <tr>\n",
       "      <th>2</th>\n",
       "      <td>2</td>\n",
       "      <td>14186244</td>\n",
       "      <td>0.01</td>\n",
       "      <td>2017-01-01</td>\n",
       "      <td>11677</td>\n",
       "      <td>14186244</td>\n",
       "      <td>2.00</td>\n",
       "      <td>3</td>\n",
       "      <td>2.00</td>\n",
       "      <td>1243</td>\n",
       "      <td>...</td>\n",
       "      <td>0.00</td>\n",
       "      <td>1962</td>\n",
       "      <td>85,289.00</td>\n",
       "      <td>564778</td>\n",
       "      <td>2,016.00</td>\n",
       "      <td>479,489.00</td>\n",
       "      <td>60,590,218,022,012.00</td>\n",
       "      <td>Single Family Residential</td>\n",
       "      <td>60s</td>\n",
       "      <td>1</td>\n",
       "    </tr>\n",
       "    <tr>\n",
       "      <th>3</th>\n",
       "      <td>3</td>\n",
       "      <td>12177905</td>\n",
       "      <td>-0.10</td>\n",
       "      <td>2017-01-01</td>\n",
       "      <td>2288172</td>\n",
       "      <td>12177905</td>\n",
       "      <td>3.00</td>\n",
       "      <td>4</td>\n",
       "      <td>3.00</td>\n",
       "      <td>2376</td>\n",
       "      <td>...</td>\n",
       "      <td>1.00</td>\n",
       "      <td>1970</td>\n",
       "      <td>108,918.00</td>\n",
       "      <td>145143</td>\n",
       "      <td>2,016.00</td>\n",
       "      <td>36,225.00</td>\n",
       "      <td>60,373,001,001,006.00</td>\n",
       "      <td>Single Family Residential</td>\n",
       "      <td>70s</td>\n",
       "      <td>0</td>\n",
       "    </tr>\n",
       "    <tr>\n",
       "      <th>4</th>\n",
       "      <td>6</td>\n",
       "      <td>12095076</td>\n",
       "      <td>-0.00</td>\n",
       "      <td>2017-01-01</td>\n",
       "      <td>781532</td>\n",
       "      <td>12095076</td>\n",
       "      <td>3.00</td>\n",
       "      <td>4</td>\n",
       "      <td>3.00</td>\n",
       "      <td>2962</td>\n",
       "      <td>...</td>\n",
       "      <td>1.00</td>\n",
       "      <td>1950</td>\n",
       "      <td>276,684.00</td>\n",
       "      <td>773303</td>\n",
       "      <td>2,016.00</td>\n",
       "      <td>496,619.00</td>\n",
       "      <td>60,374,608,001,014.00</td>\n",
       "      <td>Single Family Residential</td>\n",
       "      <td>50s</td>\n",
       "      <td>0</td>\n",
       "    </tr>\n",
       "  </tbody>\n",
       "</table>\n",
       "<p>5 rows × 34 columns</p>\n",
       "</div>"
      ],
      "text/plain": [
       "   id  parcelid             logerror transactiondate       id  parcelid  \\\n",
       "0   0  14297519                 0.03      2017-01-01  1727539  14297519   \n",
       "1   1  17052889                 0.06      2017-01-01  1387261  17052889   \n",
       "2   2  14186244                 0.01      2017-01-01    11677  14186244   \n",
       "3   3  12177905                -0.10      2017-01-01  2288172  12177905   \n",
       "4   6  12095076                -0.00      2017-01-01   781532  12095076   \n",
       "\n",
       "             bathrooms  bedrooms    calculatedbathnbr  sq_ft  ...  \\\n",
       "0                 3.50         4                 3.50   3100  ...   \n",
       "1                 1.00         2                 1.00   1465  ...   \n",
       "2                 2.00         3                 2.00   1243  ...   \n",
       "3                 3.00         4                 3.00   2376  ...   \n",
       "4                 3.00         4                 3.00   2962  ...   \n",
       "\n",
       "               unitcnt year_built  structuretaxvaluedollarcnt  home_value  \\\n",
       "0                 0.00       1998                  485,713.00     1023282   \n",
       "1                 0.00       1967                   88,000.00      464000   \n",
       "2                 0.00       1962                   85,289.00      564778   \n",
       "3                 1.00       1970                  108,918.00      145143   \n",
       "4                 1.00       1950                  276,684.00      773303   \n",
       "\n",
       "        assessmentyear  landtaxvaluedollarcnt   censustractandblock  \\\n",
       "0             2,016.00             537,569.00 60,590,630,072,012.00   \n",
       "1             2,016.00             376,000.00 61,110,010,023,006.00   \n",
       "2             2,016.00             479,489.00 60,590,218,022,012.00   \n",
       "3             2,016.00              36,225.00 60,373,001,001,006.00   \n",
       "4             2,016.00             496,619.00 60,374,608,001,014.00   \n",
       "\n",
       "         propertylandusedesc  decade_built county_encoded  \n",
       "0  Single Family Residential           90s              1  \n",
       "1  Single Family Residential           60s              2  \n",
       "2  Single Family Residential           60s              1  \n",
       "3  Single Family Residential           70s              0  \n",
       "4  Single Family Residential           50s              0  \n",
       "\n",
       "[5 rows x 34 columns]"
      ]
     },
     "execution_count": 7,
     "metadata": {},
     "output_type": "execute_result"
    }
   ],
   "source": [
    "df.head()"
   ]
  },
  {
   "cell_type": "code",
   "execution_count": null,
   "id": "a76d8fe5",
   "metadata": {},
   "outputs": [],
   "source": []
  },
  {
   "cell_type": "markdown",
   "id": "222cc260",
   "metadata": {},
   "source": [
    "# Main Exploration"
   ]
  },
  {
   "cell_type": "code",
   "execution_count": 8,
   "id": "daaa8ee4",
   "metadata": {},
   "outputs": [
    {
     "data": {
      "image/png": "[encoded data removed]",
      "text/plain": [
       "<Figure size 288x144 with 1 Axes>"
      ]
     },
     "metadata": {
      "needs_background": "light"
     },
     "output_type": "display_data"
    },
    {
     "data": {
      "image/png": "[encoded data removed]",
      "text/plain": [
       "<Figure size 288x144 with 1 Axes>"
      ]
     },
     "metadata": {
      "needs_background": "light"
     },
     "output_type": "display_data"
    },
    {
     "data": {
      "image/png": "[encoded data removed]",
      "text/plain": [
       "<Figure size 288x144 with 1 Axes>"
      ]
     },
     "metadata": {
      "needs_background": "light"
     },
     "output_type": "display_data"
    },
    {
     "data": {
      "image/png": "[encoded data removed]",
      "text/plain": [
       "<Figure size 288x144 with 1 Axes>"
      ]
     },
     "metadata": {
      "needs_background": "light"
     },
     "output_type": "display_data"
    },
    {
     "data": {
      "image/png": "[encoded data removed]",
      "text/plain": [
       "<Figure size 288x144 with 1 Axes>"
      ]
     },
     "metadata": {
      "needs_background": "light"
     },
     "output_type": "display_data"
    },
    {
     "data": {
      "image/png": "[encoded data removed]",
      "text/plain": [
       "<Figure size 288x144 with 1 Axes>"
      ]
     },
     "metadata": {
      "needs_background": "light"
     },
     "output_type": "display_data"
    },
    {
     "data": {
      "image/png": "[encoded data removed]",
      "text/plain": [
       "<Figure size 288x144 with 1 Axes>"
      ]
     },
     "metadata": {
      "needs_background": "light"
     },
     "output_type": "display_data"
    },
    {
     "data": {
      "image/png": "[encoded data removed]",
      "text/plain": [
       "<Figure size 288x144 with 1 Axes>"
      ]
     },
     "metadata": {
      "needs_background": "light"
     },
     "output_type": "display_data"
    },
    {
     "data": {
      "image/png": "[encoded data removed]",
      "text/plain": [
       "<Figure size 288x144 with 1 Axes>"
      ]
     },
     "metadata": {
      "needs_background": "light"
     },
     "output_type": "display_data"
    },
    {
     "data": {
      "image/png": "[encoded data removed]",
      "text/plain": [
       "<Figure size 288x144 with 1 Axes>"
      ]
     },
     "metadata": {
      "needs_background": "light"
     },
     "output_type": "display_data"
    },
    {
     "data": {
      "image/png": "[encoded data removed]",
      "text/plain": [
       "<Figure size 288x144 with 1 Axes>"
      ]
     },
     "metadata": {
      "needs_background": "light"
     },
     "output_type": "display_data"
    },
    {
     "data": {
      "image/png": "[encoded data removed]",
      "text/plain": [
       "<Figure size 288x144 with 1 Axes>"
      ]
     },
     "metadata": {
      "needs_background": "light"
     },
     "output_type": "display_data"
    },
    {
     "data": {
      "image/png": "[encoded data removed]",
      "text/plain": [
       "<Figure size 288x144 with 1 Axes>"
      ]
     },
     "metadata": {
      "needs_background": "light"
     },
     "output_type": "display_data"
    },
    {
     "data": {
      "image/png": "[encoded data removed]",
      "text/plain": [
       "<Figure size 288x144 with 1 Axes>"
      ]
     },
     "metadata": {
      "needs_background": "light"
     },
     "output_type": "display_data"
    },
    {
     "data": {
      "image/png": "[encoded data removed]",
      "text/plain": [
       "<Figure size 288x144 with 1 Axes>"
      ]
     },
     "metadata": {
      "needs_background": "light"
     },
     "output_type": "display_data"
    },
    {
     "data": {
      "image/png": "[encoded data removed]",
      "text/plain": [
       "<Figure size 288x144 with 1 Axes>"
      ]
     },
     "metadata": {
      "needs_background": "light"
     },
     "output_type": "display_data"
    },
    {
     "data": {
      "image/png": "[encoded data removed]",
      "text/plain": [
       "<Figure size 288x144 with 1 Axes>"
      ]
     },
     "metadata": {
      "needs_background": "light"
     },
     "output_type": "display_data"
    },
    {
     "data": {
      "image/png": "[encoded data removed]",
      "text/plain": [
       "<Figure size 288x144 with 1 Axes>"
      ]
     },
     "metadata": {
      "needs_background": "light"
     },
     "output_type": "display_data"
    },
    {
     "data": {
      "image/png": "[encoded data removed]",
      "text/plain": [
       "<Figure size 288x144 with 1 Axes>"
      ]
     },
     "metadata": {
      "needs_background": "light"
     },
     "output_type": "display_data"
    },
    {
     "data": {
      "image/png": "[encoded data removed]",
      "text/plain": [
       "<Figure size 288x144 with 1 Axes>"
      ]
     },
     "metadata": {
      "needs_background": "light"
     },
     "output_type": "display_data"
    },
    {
     "data": {
      "image/png": "[encoded data removed]",
      "text/plain": [
       "<Figure size 288x144 with 1 Axes>"
      ]
     },
     "metadata": {
      "needs_background": "light"
     },
     "output_type": "display_data"
    },
    {
     "data": {
      "image/png": "[encoded data removed]",
      "text/plain": [
       "<Figure size 288x144 with 1 Axes>"
      ]
     },
     "metadata": {
      "needs_background": "light"
     },
     "output_type": "display_data"
    },
    {
     "data": {
      "image/png": "[encoded data removed]",
      "text/plain": [
       "<Figure size 288x144 with 1 Axes>"
      ]
     },
     "metadata": {
      "needs_background": "light"
     },
     "output_type": "display_data"
    },
    {
     "data": {
      "image/png": "[encoded data removed]",
      "text/plain": [
       "<Figure size 288x144 with 1 Axes>"
      ]
     },
     "metadata": {
      "needs_background": "light"
     },
     "output_type": "display_data"
    },
    {
     "data": {
      "image/png": "[encoded data removed]",
      "text/plain": [
       "<Figure size 288x144 with 1 Axes>"
      ]
     },
     "metadata": {
      "needs_background": "light"
     },
     "output_type": "display_data"
    },
    {
     "data": {
      "image/png": "[encoded data removed]",
      "text/plain": [
       "<Figure size 288x144 with 1 Axes>"
      ]
     },
     "metadata": {
      "needs_background": "light"
     },
     "output_type": "display_data"
    },
    {
     "data": {
      "image/png": "[encoded data removed]",
      "text/plain": [
       "<Figure size 288x144 with 1 Axes>"
      ]
     },
     "metadata": {
      "needs_background": "light"
     },
     "output_type": "display_data"
    },
    {
     "data": {
      "image/png": "[encoded data removed]",
      "text/plain": [
       "<Figure size 288x144 with 1 Axes>"
      ]
     },
     "metadata": {
      "needs_background": "light"
     },
     "output_type": "display_data"
    },
    {
     "data": {
      "image/png": "[encoded data removed]",
      "text/plain": [
       "<Figure size 288x144 with 1 Axes>"
      ]
     },
     "metadata": {
      "needs_background": "light"
     },
     "output_type": "display_data"
    },
    {
     "data": {
      "image/png": "[encoded data removed]",
      "text/plain": [
       "<Figure size 288x144 with 1 Axes>"
      ]
     },
     "metadata": {
      "needs_background": "light"
     },
     "output_type": "display_data"
    },
    {
     "data": {
      "image/png": "[encoded data removed]",
      "text/plain": [
       "<Figure size 288x144 with 1 Axes>"
      ]
     },
     "metadata": {
      "needs_background": "light"
     },
     "output_type": "display_data"
    },
    {
     "data": {
      "image/png": "[encoded data removed]",
      "text/plain": [
       "<Figure size 288x144 with 1 Axes>"
      ]
     },
     "metadata": {
      "needs_background": "light"
     },
     "output_type": "display_data"
    },
    {
     "data": {
      "image/png": "[encoded data removed]",
      "text/plain": [
       "<Figure size 288x144 with 1 Axes>"
      ]
     },
     "metadata": {
      "needs_background": "light"
     },
     "output_type": "display_data"
    },
    {
     "data": {
      "image/png": "[encoded data removed]",
      "text/plain": [
       "<Figure size 288x144 with 1 Axes>"
      ]
     },
     "metadata": {
      "needs_background": "light"
     },
     "output_type": "display_data"
    }
   ],
   "source": [
    "# loop for distribution of all variables, via histogram:\n",
    "for col in train.columns:\n",
    "    plt.figure(figsize=(4,2))\n",
    "    plt.hist(train[col])\n",
    "    plt.title(col)\n",
    "    plt.show()"
   ]
  },
  {
   "cell_type": "code",
   "execution_count": null,
   "id": "4d72c25f",
   "metadata": {},
   "outputs": [],
   "source": []
  },
  {
   "cell_type": "code",
   "execution_count": null,
   "id": "c1d43193",
   "metadata": {},
   "outputs": [],
   "source": []
  },
  {
   "cell_type": "code",
   "execution_count": null,
   "id": "ce97e2a6",
   "metadata": {},
   "outputs": [],
   "source": []
  },
  {
   "cell_type": "code",
   "execution_count": null,
   "id": "574a87e7",
   "metadata": {},
   "outputs": [],
   "source": []
  },
  {
   "cell_type": "code",
   "execution_count": null,
   "id": "5803857f",
   "metadata": {},
   "outputs": [],
   "source": []
  },
  {
   "cell_type": "code",
   "execution_count": null,
   "id": "0ab2ff91",
   "metadata": {},
   "outputs": [],
   "source": []
  },
  {
   "cell_type": "code",
   "execution_count": null,
   "id": "65ee11f4",
   "metadata": {},
   "outputs": [],
   "source": []
  },
  {
   "cell_type": "code",
   "execution_count": null,
   "id": "224eae8d",
   "metadata": {},
   "outputs": [],
   "source": []
  },
  {
   "cell_type": "markdown",
   "id": "65c62ef5",
   "metadata": {},
   "source": [
    "# plotly 3d scatter\n",
    "import plotly.express as px\n",
    "df = px.data.iris()\n",
    "fig = px.scatter_3d(df, x='sepal_length', y='sepal_width', z='petal_width',\n",
    "              color='species')\n",
    "fig.update_layout(width=700, height=500)\n",
    "# fig.update_layout(margin={\"r\":0,\"t\":0,\"l\":10,\"b\":0})\n",
    "fig.show()"
   ]
  },
  {
   "cell_type": "code",
   "execution_count": null,
   "id": "8b93d5ff",
   "metadata": {},
   "outputs": [],
   "source": []
  },
  {
   "cell_type": "code",
   "execution_count": null,
   "id": "a3a9cb6d",
   "metadata": {},
   "outputs": [],
   "source": []
  },
  {
   "cell_type": "code",
   "execution_count": null,
   "id": "414ac2e1",
   "metadata": {},
   "outputs": [],
   "source": []
  },
  {
   "cell_type": "code",
   "execution_count": null,
   "id": "38dfe007",
   "metadata": {},
   "outputs": [],
   "source": []
  },
  {
   "cell_type": "code",
   "execution_count": null,
   "id": "a92ee37b",
   "metadata": {},
   "outputs": [],
   "source": []
  },
  {
   "cell_type": "code",
   "execution_count": null,
   "id": "4d957d08",
   "metadata": {},
   "outputs": [],
   "source": []
  }
 ],
 "metadata": {
  "kernelspec": {
   "display_name": "Python 3 (ipykernel)",
   "language": "python",
   "name": "python3"
  },
  "language_info": {
   "codemirror_mode": {
    "name": "ipython",
    "version": 3
   },
   "file_extension": ".py",
   "mimetype": "text/x-python",
   "name": "python",
   "nbconvert_exporter": "python",
   "pygments_lexer": "ipython3",
   "version": "3.9.12"
  }
 },
 "nbformat": 4,
 "nbformat_minor": 5
}
