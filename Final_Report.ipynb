{
 "cells": [
  {
   "cell_type": "markdown",
   "id": "e3403e29",
   "metadata": {},
   "source": [
    "# Predicting Log Error for Zillow"
   ]
  },
  {
   "cell_type": "markdown",
   "id": "0d2356e2",
   "metadata": {},
   "source": [
    "by David Schneemann"
   ]
  },
  {
   "cell_type": "markdown",
   "id": "03f2dee1",
   "metadata": {},
   "source": [
    "## Project Goal"
   ]
  },
  {
   "cell_type": "markdown",
   "id": "33b905ed",
   "metadata": {},
   "source": [
    "My goal with this project is to identify Zillow's key drivers of logerror and to provide insight into why and how these factors are producing certain log errors. With this information and the following recommendations, our organization can work together to improve business processes and procedures in order to more accurately predict home values and log error moving forward."
   ]
  },
  {
   "cell_type": "markdown",
   "id": "f7600c4a",
   "metadata": {},
   "source": [
    "## Project Description"
   ]
  },
  {
   "cell_type": "markdown",
   "id": "c38607fc",
   "metadata": {},
   "source": [
    "At Zillow, the ability to predict logerror is essential for measuring the error of a home value prediction within this database.\n",
    "\n",
    "In order to more accurately predict log error, we will analyze the attributes (features) of homes within a predetermined set of data. This dataset includes Single Family Properties that had a transaction during 2017.\n",
    "We will then develop models for predicting log error based on these attributes and provide recommendations and predictions to Zillow for improving prediction of log error moving forward.\n"
   ]
  },
  {
   "cell_type": "markdown",
   "id": "3959daad",
   "metadata": {},
   "source": [
    "## Initial Questions"
   ]
  },
  {
   "cell_type": "markdown",
   "id": "756eb326",
   "metadata": {},
   "source": [
    "#### 1. Does a higher number of bedrooms increase logerror?\n",
    "\n",
    "#### 2. Does a higher number of bathrooms increase logerror?\n",
    "\n",
    "#### 3. Do more garage spaces increase logerror?\n",
    "\n",
    "#### 4. Is logerror significantly different for properties in LA County vs Orange County vs Ventura County?\n",
    "\n",
    "#### 5. Does a higher square footage increase home value?"
   ]
  },
  {
   "cell_type": "markdown",
   "id": "582a38b1",
   "metadata": {},
   "source": [
    "## Data Dictionary"
   ]
  },
  {
   "cell_type": "markdown",
   "id": "b5c28e7c",
   "metadata": {},
   "source": [
    "In order to effectively meet our goals, the following module imports are required. \\\n",
    "Below is an extensive list of all modules I imported and used to create and complete the desired analysis for Zillow."
   ]
  },
  {
   "cell_type": "code",
   "execution_count": 1,
   "id": "fc9de8a5",
   "metadata": {},
   "outputs": [],
   "source": [
    "# regular imports\n",
    "import pandas as pd\n",
    "import numpy as np\n",
    "import matplotlib.pyplot as plt\n",
    "import seaborn as sns\n",
    "import scipy\n",
    "import math\n",
    "import env\n",
    "\n",
    "# default pandas decimal number display format\n",
    "pd.options.display.float_format = '{:20,.2f}'.format\n",
    "\n",
    "import warnings\n",
    "warnings.filterwarnings(\"ignore\")\n",
    "\n",
    "# Wrangling\n",
    "from sklearn.model_selection import train_test_split, learning_curve\n",
    "from sklearn.feature_selection import SelectKBest, RFE, f_regression, SequentialFeatureSelector\n",
    "from sklearn.linear_model import LinearRegression, LassoLars, TweedieRegressor\n",
    "from sklearn.cluster import KMeans\n",
    "from scipy import stats\n",
    "import sklearn.preprocessing\n",
    "from sklearn.metrics import mean_squared_error\n",
    "from scipy.stats import pearsonr, spearmanr, kruskal\n",
    "\n",
    "# Personal Imports\n",
    "import acquire\n",
    "import prepare\n",
    "import explore\n",
    "import model"
   ]
  },
  {
   "cell_type": "markdown",
   "id": "61c8b492",
   "metadata": {},
   "source": [
    "| Variable      | Meaning |\n",
    "| ----------- | ----------- |\n",
    "| logerror      | The measured log error of a home       |\n",
    "| home_value      | The total tax assessed value of the parcel       |\n",
    "| bedrooms   | The total number of bedrooms in a home        |\n",
    "| bathrooms      | The total number of bathrooms in a home       |\n",
    "| garage_spaces      | The total number of car slots in a garage       |\n",
    "| year_built      | The year the home was built       |\n",
    "| age      | The age of the home       |\n",
    "| location      | Location of a home by county      |\n",
    "| sq_ft      | The total square feet of a home       |\n",
    "| lot_sq_ft      | The total square feet of a property lot       |\n",
    "| latitude   | Location using the latitudenal metric        |\n",
    "| longitude      | Location using the longitudenal metric       |\n",
    "| bath_bed_ratio      | Ratio of bathrooms to bedrooms of a home       |"
   ]
  },
  {
   "cell_type": "markdown",
   "id": "ec2e9ef6",
   "metadata": {},
   "source": [
    "## Acquire Zillow Data"
   ]
  },
  {
   "cell_type": "markdown",
   "id": "9ec9ebc5",
   "metadata": {},
   "source": [
    "##### We acquire our data by utilizing my acquire.py file.\n",
    "This file pulls my selected features from properties_2017 and joins them with propertylandusetype and predictions_2017. \\\n",
    "We use these tables only to limit our selection to Single Family Residences with a transaction in 2017. \\\n",
    "Our resulting sql query returns 56,079 entries of data with the following attributes."
   ]
  },
  {
   "cell_type": "code",
   "execution_count": 2,
   "id": "3a2ecc85",
   "metadata": {},
   "outputs": [],
   "source": [
    "# Calling my acquire.py file and utilizing its function,assigning the output to df\n",
    "df = acquire.wrangle_zillow()"
   ]
  },
  {
   "cell_type": "markdown",
   "id": "e4654321",
   "metadata": {},
   "source": [
    "## Prepare Zillow Data"
   ]
  },
  {
   "cell_type": "markdown",
   "id": "3ee4d424",
   "metadata": {},
   "source": [
    "##### We prepare our data by utilizing my prepare.py file.\n",
    "This file:\n",
    "- Handles null values\n",
    "    - These null values represented less than 1% of our data, so I chose to drop these rows\n",
    "- Converts some variables to integers for optimization\n",
    "- Handles outliers\n",
    "- Cleans variables, including dropping `taxamount` and renaming columns\n",
    "- Includes feature engineering to encode location via `fips`\n",
    "- Splits prepared df into train, validate, test, and associated dfs on x and y\n",
    "\n",
    "Our resulting dataframes are ready for exploration and evaluation."
   ]
  },
  {
   "cell_type": "code",
   "execution_count": 4,
   "id": "94fce66c",
   "metadata": {},
   "outputs": [],
   "source": [
    "# Calling my prepare function and assigning the output to the following variables\n",
    "df, train, validate, test, x_train, y_train, x_validate, y_validate, x_test, y_test = prepare.prep_zillow(df)"
   ]
  },
  {
   "cell_type": "code",
   "execution_count": 38,
   "id": "7b752499",
   "metadata": {},
   "outputs": [
    {
     "name": "stdout",
     "output_type": "stream",
     "text": [
      "Total df shape: (53063, 10).\n",
      "Train shape: (29715, 11).\n",
      "Validate shape: (12735, 11).\n",
      "Test shape: (10613, 11).\n"
     ]
    }
   ],
   "source": [
    "# Checking shape on our samples to confirm appropriate split\n",
    "print('Total df shape: {}.'.format(df.shape))\n",
    "print('Train shape: {}.'.format(train.shape))\n",
    "print('Validate shape: {}.'.format(validate.shape))\n",
    "print('Test shape: {}.'.format(test.shape))"
   ]
  },
  {
   "cell_type": "markdown",
   "id": "75b89b11",
   "metadata": {},
   "source": [
    "## Set the Data Context"
   ]
  },
  {
   "cell_type": "markdown",
   "id": "ab16efb7",
   "metadata": {},
   "source": [
    "#### Note: Not all visuals, analysis, and work is shown within this Final Report. \n",
    "#### All my work, from start to finish, is available in my `working_notebook.ipynb` file for your reference."
   ]
  },
  {
   "cell_type": "markdown",
   "id": "b01961c2",
   "metadata": {},
   "source": [
    "Our acquired and prepared dataset contains information for 48,250 homes. \\\n",
    "    In the process of exploring this data and setting initial hypotheses, I created a figure plotting choice categorical variables with our target variable of `logerror`. Using this figure I determined potential correlation with each of the features stated in my initial hypotheses. The following exploration seeks to answer these questions."
   ]
  },
  {
   "cell_type": "markdown",
   "id": "5135c1de",
   "metadata": {},
   "source": [
    "## Exploratory Analysis\n",
    "I now take each of my initial hypotheses in turn, answering them using visualizations and statistical analysis. \\\n",
    "I utilize an `explore.py` file in order to abstract repetitive code away from this Final Report. "
   ]
  },
  {
   "cell_type": "markdown",
   "id": "a6210604",
   "metadata": {},
   "source": [
    "#### 1. Does a higher number of bedrooms increase logerror?\n",
    "\n",
    "- Ho = More bedrooms translates to <= logerror\n",
    "- Ha = More bedrooms translates to > logerror"
   ]
  },
  {
   "cell_type": "code",
   "execution_count": null,
   "id": "458b31ad",
   "metadata": {},
   "outputs": [
    {
     "data": {
      "image/png": "[encoded data removed]",
      "text/plain": [
       "<Figure size 432x288 with 1 Axes>"
      ]
     },
     "metadata": {},
     "output_type": "display_data"
    },
    {
     "data": {
      "image/png": "[encoded data removed]",
      "text/plain": [
       "<Figure size 432x288 with 1 Axes>"
      ]
     },
     "metadata": {},
     "output_type": "display_data"
    }
   ],
   "source": [
    "# Calling explore.py; applying plot function to 'bedrooms' and 'home_value'\n",
    "explore.plot_categorical_and_continuous_vars(df, 'bedrooms', 'logerror')"
   ]
  },
  {
   "cell_type": "code",
   "execution_count": null,
   "id": "5228e981",
   "metadata": {},
   "outputs": [
    {
     "name": "stdout",
     "output_type": "stream",
     "text": [
      "The number of bedrooms is correlated with logerror.\n",
      "The correlation coefficient is 0.038875245230531076.\n"
     ]
    }
   ],
   "source": [
    "# Use the scipy stats function pearsonr to calculate the correlation coefficient and the p-value.\n",
    "alpha = 0.05\n",
    "\n",
    "r_bed , p_bed = pearsonr(x = train['bedrooms'], y = train['logerror'])\n",
    "\n",
    "r_bed , p_bed\n",
    "\n",
    "if p_bed < alpha:\n",
    "    print('The number of bedrooms is correlated with logerror.')\n",
    "    print('The correlation coefficient is {}.'.format(r_bed))\n",
    "else:\n",
    "    print('The number of bedrooms is NOT correlated with logerror.')"
   ]
  },
  {
   "cell_type": "markdown",
   "id": "e2d0631e",
   "metadata": {},
   "source": [
    "#### Answer 1 : Yes,  higher numbers of bedrooms correlate with higher logerror\n",
    "Following our statistical test, we indicate that this feature is correlated with logerror, meaning that there is statistical significance behind the claim that more bedrooms results in a higher logerror. Thus we move forward with this feature."
   ]
  },
  {
   "cell_type": "markdown",
   "id": "ceeabc51",
   "metadata": {},
   "source": [
    "#### 2. Does a higher number of bathrooms increase logerror?\n",
    "\n",
    "- Ho = More bathrooms translates to <= logerror\n",
    "- Ha = More bathrooms translates to > logerror"
   ]
  },
  {
   "cell_type": "code",
   "execution_count": null,
   "id": "8e08e4fa",
   "metadata": {},
   "outputs": [
    {
     "data": {
      "image/png": "[encoded data removed]",
      "text/plain": [
       "<Figure size 432x288 with 1 Axes>"
      ]
     },
     "metadata": {},
     "output_type": "display_data"
    },
    {
     "data": {
      "image/png": "[encoded data removed]",
      "text/plain": [
       "<Figure size 432x288 with 1 Axes>"
      ]
     },
     "metadata": {},
     "output_type": "display_data"
    }
   ],
   "source": [
    "# Calling explore.py; applying plot function to 'bathrooms' and 'home_value'\n",
    "explore.plot_categorical_and_continuous_vars(train, 'bathrooms', 'logerror')"
   ]
  },
  {
   "cell_type": "code",
   "execution_count": null,
   "id": "be67ff3a",
   "metadata": {},
   "outputs": [
    {
     "name": "stdout",
     "output_type": "stream",
     "text": [
      "The number of bathrooms is correlated with logerror.\n",
      "The correlation coefficient is 0.0352820776149596.\n"
     ]
    }
   ],
   "source": [
    "# Use the scipy stats function pearsonr to calculate the correlation coefficient and the p-value.\n",
    "alpha = 0.05\n",
    "\n",
    "r_bath , p_bath = pearsonr(x = train['bathrooms'], y = train['logerror'])\n",
    "\n",
    "r_bath , p_bath\n",
    "\n",
    "if p_bath < alpha:\n",
    "    print('The number of bathrooms is correlated with logerror.')\n",
    "    print('The correlation coefficient is {}.'.format(r_bath))\n",
    "else:\n",
    "    print('The number of bathrooms is NOT correlated with logerror.')"
   ]
  },
  {
   "cell_type": "markdown",
   "id": "e9892399",
   "metadata": {},
   "source": [
    "#### Answer 2: Yes,  higher numbers of bathrooms correlate with higher logerror\n",
    "Following our statistical test, we indicate that this feature is correlated with logerror, meaning that there is statistical significance behind the claim that more bathrooms results in a higher logerror. Thus we move forward with this feature."
   ]
  },
  {
   "cell_type": "markdown",
   "id": "6a8600d8",
   "metadata": {},
   "source": [
    "#### 3. Do more garage spaces increase logerror?\n",
    "\n",
    "- Ho = More garage spaces translates to <= logerror\n",
    "- Ha = More garage spaces translates to > logerror"
   ]
  },
  {
   "cell_type": "code",
   "execution_count": null,
   "id": "1d77d200",
   "metadata": {},
   "outputs": [
    {
     "data": {
      "image/png": "[encoded data removed]",
      "text/plain": [
       "<Figure size 432x288 with 1 Axes>"
      ]
     },
     "metadata": {},
     "output_type": "display_data"
    },
    {
     "data": {
      "image/png": "[encoded data removed]",
      "text/plain": [
       "<Figure size 432x288 with 1 Axes>"
      ]
     },
     "metadata": {},
     "output_type": "display_data"
    }
   ],
   "source": [
    "# Calling explore.py; applying plot function to 'garage_spaces' and 'home_value'\n",
    "explore.plot_categorical_and_continuous_vars(train, 'garage_spaces', 'logerror')"
   ]
  },
  {
   "cell_type": "code",
   "execution_count": null,
   "id": "e3b88e24",
   "metadata": {},
   "outputs": [
    {
     "name": "stdout",
     "output_type": "stream",
     "text": [
      "The number of garage spaces is correlated with logerror.\n",
      "The correlation coefficient is 0.021635652375575822.\n"
     ]
    }
   ],
   "source": [
    "# Use the scipy stats function pearsonr to calculate the correlation coefficient and the p-value.\n",
    "alpha = 0.05\n",
    "\n",
    "r_garage , p_garage = pearsonr(x = train['garage_spaces'], y = train['logerror'])\n",
    "\n",
    "r_garage , p_garage\n",
    "\n",
    "if p_garage < alpha:\n",
    "    print('The number of garage spaces is correlated with logerror.')\n",
    "    print('The correlation coefficient is {}.'.format(r_garage))\n",
    "else:\n",
    "    print('The number of garage spaces is NOT correlated with logerror.')"
   ]
  },
  {
   "cell_type": "markdown",
   "id": "9a477689",
   "metadata": {},
   "source": [
    "#### Answer 3: Yes, higher numbers of garage spaces correlate with higher logerror\n",
    "Following our statistical test, we indicate that this feature is correlated with logerror, meaning that there is statistical significance behind the claim that more garage spaces results in a higher logerror. Thus we move forward with this feature."
   ]
  },
  {
   "cell_type": "markdown",
   "id": "168a1c6e",
   "metadata": {},
   "source": [
    "#### 4. Is logerror significantly different for properties in LA County vs Orange County vs Ventura County?\n",
    "\n",
    "- Ho = Population Means of the logerrors for Orange county, LA County, and Ventura County are all equal\n",
    "- Ha = Population Means of the logerrors for Orange county, LA County, and Ventura County are NOT all equal"
   ]
  },
  {
   "cell_type": "code",
   "execution_count": null,
   "id": "70662f8b",
   "metadata": {},
   "outputs": [
    {
     "data": {
      "image/png": "[encoded data removed]",
      "text/plain": [
       "<Figure size 432x288 with 1 Axes>"
      ]
     },
     "metadata": {},
     "output_type": "display_data"
    },
    {
     "data": {
      "image/png": "[encoded data removed]",
      "text/plain": [
       "<Figure size 432x288 with 1 Axes>"
      ]
     },
     "metadata": {},
     "output_type": "display_data"
    }
   ],
   "source": [
    "# Calling explore.py; applying plot function to 'location' and 'home_value'\n",
    "explore.plot_categorical_and_continuous_vars(train, 'location', 'logerror')"
   ]
  },
  {
   "cell_type": "code",
   "execution_count": null,
   "id": "fd7376af",
   "metadata": {},
   "outputs": [],
   "source": [
    "# Assigning separate dfs to select only values within a certain county code\n",
    "Orange = train[train.location == 'Orange County'].logerror\n",
    "LA = train[train.location == 'LA County'].logerror\n",
    "Ventura = train[train.location == 'Ventura County'].logerror"
   ]
  },
  {
   "cell_type": "code",
   "execution_count": null,
   "id": "030a8115",
   "metadata": {},
   "outputs": [
    {
     "name": "stdout",
     "output_type": "stream",
     "text": [
      "f-statistic by ANOVA Test: 11.01573329874872, p-value: 1.6514954460181095e-05\n",
      "We can reject the null hypothesis\n"
     ]
    }
   ],
   "source": [
    "# ANOVA test for comparing 3 separate cat vars\n",
    "f, p = stats.f_oneway(Orange, LA, Ventura)\n",
    "f, p\n",
    "\n",
    "print(f'f-statistic by ANOVA Test: {f}, p-value: {p}')\n",
    "\n",
    "# set alpha : 0.05\n",
    "if p < 0.05:\n",
    "    print('We can reject the null hypothesis')\n",
    "else:\n",
    "    print('we cannot reject the null hypothesis')"
   ]
  },
  {
   "cell_type": "markdown",
   "id": "40488f78",
   "metadata": {},
   "source": [
    "#### Answer 4: Yes, location by county does affect logerror\n",
    "Following our statistical test, we reject the null, meaning that there is statistical significance behind the claim that the population means of the logerror for each county are NOT equal. Thus we move forward with this feature."
   ]
  },
  {
   "cell_type": "markdown",
   "id": "899c561e",
   "metadata": {},
   "source": [
    "### Summary: Which are the best predictors of log error?"
   ]
  },
  {
   "cell_type": "markdown",
   "id": "bdc8de1e",
   "metadata": {},
   "source": [
    "#### Key Takeaways [EDIT]\n",
    "##### All 5 features I explored have been shown to have correlation with home value, thus I'll move forward with these features to modeling:\n",
    "- `bedrooms` \n",
    "- `bathrooms` \n",
    "- `garage_spaces` \n",
    "- `location` (aka `county_encoded` for modeling)\n",
    "- `sq_ft` \n",
    "\n",
    "##### In an attempt to produce the most accurate models possible, I will drop the following extraneous features:\n",
    "- `year_built`\n",
    "- `lot_sq_ft`\n",
    "- `decade_built`"
   ]
  },
  {
   "cell_type": "code",
   "execution_count": null,
   "id": "e8a7abda",
   "metadata": {},
   "outputs": [],
   "source": [
    "#INSERT CLUSTERING EXPLORATION"
   ]
  },
  {
   "cell_type": "code",
   "execution_count": null,
   "id": "fb42db36",
   "metadata": {},
   "outputs": [],
   "source": []
  },
  {
   "cell_type": "markdown",
   "id": "2ca2ab3c",
   "metadata": {},
   "source": [
    "### Scaling\n",
    "I have chosen a MinMax Scaler upon which to scale my data. After comparing this and other scalers, I determined MinMax to provide the best results. I call my `model.py` scaling function and assign respective variables below."
   ]
  },
  {
   "cell_type": "code",
   "execution_count": 18,
   "id": "1a71c240",
   "metadata": {},
   "outputs": [],
   "source": [
    "# Calling our model.py; Assigning df variables to our called function, `scale_data`\n",
    "train_scaled, validate_scaled, test_scaled = model.scale_data(train, validate, test)"
   ]
  },
  {
   "cell_type": "markdown",
   "id": "071baa8e",
   "metadata": {},
   "source": [
    "#### Now that we have our data scaled, I will:\n",
    "- Remove the extraneous features mentioned in the exploration summary\n",
    "- Split our scaled train, validate, and test on x and y"
   ]
  },
  {
   "cell_type": "code",
   "execution_count": 19,
   "id": "4acc101f",
   "metadata": {},
   "outputs": [],
   "source": [
    "# Dropping extraneous features no longer relevant to modeling\n",
    "train_scaled = train_scaled.drop(columns = ['location', 'lot_sq_ft', 'decade_built'])\n",
    "validate_scaled = validate_scaled.drop(columns = ['location', 'lot_sq_ft', 'decade_built'])\n",
    "test_scaled = test_scaled.drop(columns = ['location', 'lot_sq_ft', 'decade_built'])"
   ]
  },
  {
   "cell_type": "code",
   "execution_count": 20,
   "id": "754430e0",
   "metadata": {},
   "outputs": [],
   "source": [
    "# Splitting train, validate, and test dfs on x and y FOR SCALED DF\n",
    "x_train_scaled = train_scaled.drop(columns=['home_value'])\n",
    "x_validate_scaled = validate_scaled.drop(columns=['home_value'])\n",
    "x_test_scaled = test_scaled.drop(columns=['home_value'])\n",
    "\n",
    "y_train_scaled = train_scaled['home_value']\n",
    "y_validate_scaled = validate_scaled['home_value']\n",
    "y_test_scaled = test_scaled['home_value']"
   ]
  },
  {
   "cell_type": "code",
   "execution_count": null,
   "id": "a381983e",
   "metadata": {},
   "outputs": [],
   "source": [
    "# INSERT CLUSTER CREATION"
   ]
  },
  {
   "cell_type": "code",
   "execution_count": null,
   "metadata": {},
   "outputs": [],
   "source": []
  },
  {
   "cell_type": "code",
   "execution_count": null,
   "id": "c9ee521a",
   "metadata": {},
   "outputs": [],
   "source": []
  },
  {
   "cell_type": "code",
   "execution_count": null,
   "metadata": {},
   "outputs": [],
   "source": []
  },
  {
   "cell_type": "code",
   "execution_count": null,
   "id": "f6bf7aa1",
   "metadata": {},
   "outputs": [],
   "source": []
  },
  {
   "cell_type": "code",
   "execution_count": null,
   "id": "dbbe0d1c",
   "metadata": {},
   "outputs": [],
   "source": []
  },
  {
   "cell_type": "code",
   "execution_count": null,
   "id": "2a98d91a",
   "metadata": {},
   "outputs": [],
   "source": []
  },
  {
   "cell_type": "markdown",
   "id": "ef635896",
   "metadata": {},
   "source": [
    "## Predicting Log Error\n",
    "In fitting and evaluating models on our data, the metric we choose to use to evaluate is root mean square error (RMSE). This allows us to compare the mean error of a model in the actual unit of our target variable, logerror. Thus, this is the most valuable metric for understanding the performance of our models.\n"
   ]
  },
  {
   "cell_type": "code",
   "execution_count": null,
   "id": "e25667b1",
   "metadata": {},
   "outputs": [],
   "source": [
    "# Dropping extraneous features no longer relevant to modeling\n",
    "train_scaled = train_scaled.drop(columns = ['location', 'lot_sq_ft', 'decade_built'])\n",
    "validate_scaled = validate_scaled.drop(columns = ['location', 'lot_sq_ft', 'decade_built'])\n",
    "test_scaled = test_scaled.drop(columns = ['location', 'lot_sq_ft', 'decade_built'])"
   ]
  },
  {
   "cell_type": "markdown",
   "id": "cee1fe22",
   "metadata": {},
   "source": [
    "**Note**\n",
    "I now perform my scale split between x and y, following creation of my clusters"
   ]
  },
  {
   "cell_type": "code",
   "execution_count": null,
   "id": "7bc7a16b",
   "metadata": {},
   "outputs": [],
   "source": [
    "# Splitting train, validate, and test dfs on x and y FOR SCALED DF with clusters\n",
    "x_train_scaled = train_scaled.drop(columns=['logerror'])\n",
    "x_validate_scaled = validate_scaled.drop(columns=['logerror'])\n",
    "x_test_scaled = test_scaled.drop(columns=['logerror'])\n",
    "\n",
    "y_train_scaled = train_scaled['logerror']\n",
    "y_validate_scaled = validate_scaled['logerror']\n",
    "y_test_scaled = test_scaled['logerror']"
   ]
  },
  {
   "cell_type": "markdown",
   "id": "f1e769b7",
   "metadata": {},
   "source": [
    "#### Dropping extraneous variables (tbd, whatever interrupts modeling)"
   ]
  },
  {
   "cell_type": "code",
   "execution_count": null,
   "id": "220a4c4f",
   "metadata": {},
   "outputs": [],
   "source": []
  },
  {
   "cell_type": "code",
   "execution_count": null,
   "id": "6d5c410a",
   "metadata": {},
   "outputs": [],
   "source": []
  },
  {
   "cell_type": "code",
   "execution_count": null,
   "id": "2d79aea8",
   "metadata": {},
   "outputs": [],
   "source": []
  },
  {
   "cell_type": "markdown",
   "id": "64c95694",
   "metadata": {},
   "source": [
    "#### Baseline\n",
    "In order to compare our models, I'll create a baseline from our train dataset actual log error"
   ]
  },
  {
   "cell_type": "code",
   "execution_count": 21,
   "id": "a6746df4",
   "metadata": {},
   "outputs": [
    {
     "name": "stdout",
     "output_type": "stream",
     "text": [
      "Train baseline RMSE: 272118.84506691294.\n",
      "Validation baseline RMSE: 268096.9138598306.\n",
      "Test baseline RMSE: 270460.22757535306.\n"
     ]
    }
   ],
   "source": [
    "#Establish baselines for the train and validation datasets\n",
    "baseline = train['home_value'].mean()\n",
    "\n",
    "# Create new columns for baseline\n",
    "train['baseline'] = baseline\n",
    "validate['baseline'] = baseline\n",
    "test['baseline'] = baseline\n",
    "\n",
    "# Find RMSE for each sample\n",
    "train_rmse = sqrt(mean_squared_error(train['home_value'], train.baseline))\n",
    "validate_rmse = sqrt(mean_squared_error(validate['home_value'], validate.baseline))\n",
    "test_rmse = sqrt(mean_squared_error(test['home_value'], test.baseline))\n",
    "\n",
    "print('Train baseline RMSE: {}.'.format(train_rmse))\n",
    "print('Validation baseline RMSE: {}.'.format(validate_rmse))\n",
    "print('Test baseline RMSE: {}.'.format(test_rmse))"
   ]
  },
  {
   "cell_type": "markdown",
   "id": "51a8341b",
   "metadata": {},
   "source": [
    "I'll now create:\n",
    "- `train_predictions` df for our train predictions \n",
    "- `predictions` df for our validate predictions"
   ]
  },
  {
   "cell_type": "code",
   "execution_count": 22,
   "id": "1f536e17",
   "metadata": {},
   "outputs": [],
   "source": [
    "# Creating dfs for train and validate predictions\n",
    "train_predictions = pd.DataFrame({\n",
    "    'actual': train['home_value'],\n",
    "    'baseline': baseline\n",
    "}) \n",
    "\n",
    "predictions = pd.DataFrame({\n",
    "    'actual': validate['home_value'],\n",
    "    'baseline': baseline\n",
    "}) "
   ]
  },
  {
   "cell_type": "markdown",
   "id": "cbb94ada",
   "metadata": {},
   "source": [
    "### Fit 3 Best Models [EDIT]\n",
    "- Linear Regression (`simple_lm`)\n",
    "- Lasso-Lars Regression (`lasso_lars`)\n",
    "- TweediRegressor (`glm`)"
   ]
  },
  {
   "cell_type": "markdown",
   "id": "061999de",
   "metadata": {},
   "source": [
    "#### Fitting Linear Regression"
   ]
  },
  {
   "cell_type": "code",
   "execution_count": 23,
   "id": "221279c8",
   "metadata": {},
   "outputs": [],
   "source": [
    "# Create an instance of the model and fit it to my data\n",
    "lm = LinearRegression().fit(x_train_scaled, y_train_scaled)\n",
    "\n",
    "# Predicting on train and validate and adding column to both predictions dfs \n",
    "train_predictions['simple_lm'] = lm.predict(x_train_scaled)\n",
    "predictions['simple_lm'] = lm.predict(x_validate_scaled)"
   ]
  },
  {
   "cell_type": "markdown",
   "id": "436f6b99",
   "metadata": {},
   "source": [
    "#### Fitting Lasso-Lars Regression"
   ]
  },
  {
   "cell_type": "code",
   "execution_count": 24,
   "id": "71301f96",
   "metadata": {},
   "outputs": [],
   "source": [
    "# Create the model object\n",
    "lars = LassoLars(alpha=1)\n",
    "\n",
    "# Fit the model to our training data\n",
    "lars.fit(x_train_scaled, y_train_scaled)\n",
    "\n",
    "# predict train\n",
    "train_predictions['lasso_lars'] = lars.predict(x_train_scaled)\n",
    "\n",
    "# Predict validate\n",
    "predictions['lasso_lars'] = lars.predict(x_validate_scaled)"
   ]
  },
  {
   "cell_type": "markdown",
   "id": "02aae2f7",
   "metadata": {},
   "source": [
    "#### Fitting TweediRegressor"
   ]
  },
  {
   "cell_type": "code",
   "execution_count": 25,
   "id": "ce65a5dc",
   "metadata": {},
   "outputs": [],
   "source": [
    "# Create the model object\n",
    "glm = TweedieRegressor(power=0, alpha=1)\n",
    "\n",
    "# Fit the model to our training data\n",
    "glm.fit(x_train_scaled, y_train_scaled)\n",
    "\n",
    "# predict train, add to df\n",
    "train_predictions['glm'] = glm.predict(x_train_scaled)\n",
    "\n",
    "# Predict validate, add to df\n",
    "predictions['glm'] = glm.predict(x_validate_scaled)"
   ]
  },
  {
   "cell_type": "markdown",
   "id": "4a435ae1",
   "metadata": {},
   "source": [
    "#### Evaluating Models using root mean squared error (RMSE)"
   ]
  },
  {
   "cell_type": "code",
   "execution_count": 26,
   "id": "ce340788",
   "metadata": {},
   "outputs": [
    {
     "name": "stdout",
     "output_type": "stream",
     "text": [
      "Train baseline RMSE: 272118.84506691294.\n"
     ]
    },
    {
     "data": {
      "text/plain": [
       "actual             0.000000\n",
       "simple_lm     221910.865863\n",
       "lasso_lars    221921.119966\n",
       "glm           259201.362112\n",
       "baseline      272118.845067\n",
       "dtype: float64"
      ]
     },
     "execution_count": 26,
     "metadata": {},
     "output_type": "execute_result"
    }
   ],
   "source": [
    "# Calculate root mean squared error (RMSE) for every column in the train_predictions df\n",
    "def calculate_rmse(y_predicted):\n",
    "    return sqrt(mean_squared_error(train_predictions.actual, y_predicted))\n",
    "\n",
    "print('Train baseline RMSE: {}.'.format(train_rmse))\n",
    "train_predictions.apply(calculate_rmse).sort_values()"
   ]
  },
  {
   "cell_type": "code",
   "execution_count": 27,
   "id": "b3f5bd15",
   "metadata": {
    "scrolled": true
   },
   "outputs": [
    {
     "name": "stdout",
     "output_type": "stream",
     "text": [
      "Validation baseline RMSE: 268096.9138598306.\n"
     ]
    },
    {
     "data": {
      "text/plain": [
       "actual             0.000000\n",
       "simple_lm     217319.455730\n",
       "lasso_lars    217338.051334\n",
       "glm           255170.615728\n",
       "baseline      268096.913860\n",
       "dtype: float64"
      ]
     },
     "execution_count": 27,
     "metadata": {},
     "output_type": "execute_result"
    }
   ],
   "source": [
    "# Calculate root mean squared error (RMSE) for every column in the predictions df\n",
    "def calculate_rmse(y_predicted):\n",
    "    return sqrt(mean_squared_error(predictions.actual, y_predicted))\n",
    "\n",
    "print('Validation baseline RMSE: {}.'.format(validate_rmse))\n",
    "predictions.apply(calculate_rmse).sort_values()"
   ]
  },
  {
   "cell_type": "markdown",
   "id": "570b4c9b",
   "metadata": {},
   "source": [
    "##### Model Conclusion: \n",
    "Based on comparing our train and validate predictions, we can say with confidence that Linear Regression (`simple_lm`) is our best performing model. We will now predict and evaluate this model on our test dataset"
   ]
  },
  {
   "cell_type": "markdown",
   "id": "ccf3c410",
   "metadata": {},
   "source": [
    "### Predict and Evaluate Test dataset\n",
    "Like with train and validate, I'll create a predictions df to collect predictions and then evaluate."
   ]
  },
  {
   "cell_type": "code",
   "execution_count": 29,
   "id": "e34f9ff0",
   "metadata": {},
   "outputs": [],
   "source": [
    "test_predictions = pd.DataFrame({\n",
    "    'actual': test['home_value'],\n",
    "    'baseline': baseline\n",
    "}) "
   ]
  },
  {
   "cell_type": "code",
   "execution_count": 30,
   "id": "642117c3",
   "metadata": {},
   "outputs": [
    {
     "data": {
      "text/html": [
       "<div>\n",
       "<style scoped>\n",
       "    .dataframe tbody tr th:only-of-type {\n",
       "        vertical-align: middle;\n",
       "    }\n",
       "\n",
       "    .dataframe tbody tr th {\n",
       "        vertical-align: top;\n",
       "    }\n",
       "\n",
       "    .dataframe thead th {\n",
       "        text-align: right;\n",
       "    }\n",
       "</style>\n",
       "<table border=\"1\" class=\"dataframe\">\n",
       "  <thead>\n",
       "    <tr style=\"text-align: right;\">\n",
       "      <th></th>\n",
       "      <th>actual</th>\n",
       "      <th>baseline</th>\n",
       "      <th>simple_lm</th>\n",
       "    </tr>\n",
       "  </thead>\n",
       "  <tbody>\n",
       "    <tr>\n",
       "      <th>21816</th>\n",
       "      <td>79477</td>\n",
       "      <td>377672.367962</td>\n",
       "      <td>399792.291476</td>\n",
       "    </tr>\n",
       "    <tr>\n",
       "      <th>29518</th>\n",
       "      <td>611458</td>\n",
       "      <td>377672.367962</td>\n",
       "      <td>611638.158403</td>\n",
       "    </tr>\n",
       "    <tr>\n",
       "      <th>49732</th>\n",
       "      <td>324879</td>\n",
       "      <td>377672.367962</td>\n",
       "      <td>215360.414827</td>\n",
       "    </tr>\n",
       "    <tr>\n",
       "      <th>41274</th>\n",
       "      <td>59652</td>\n",
       "      <td>377672.367962</td>\n",
       "      <td>278717.963066</td>\n",
       "    </tr>\n",
       "    <tr>\n",
       "      <th>47604</th>\n",
       "      <td>215371</td>\n",
       "      <td>377672.367962</td>\n",
       "      <td>395783.936060</td>\n",
       "    </tr>\n",
       "  </tbody>\n",
       "</table>\n",
       "</div>"
      ],
      "text/plain": [
       "       actual       baseline      simple_lm\n",
       "21816   79477  377672.367962  399792.291476\n",
       "29518  611458  377672.367962  611638.158403\n",
       "49732  324879  377672.367962  215360.414827\n",
       "41274   59652  377672.367962  278717.963066\n",
       "47604  215371  377672.367962  395783.936060"
      ]
     },
     "execution_count": 30,
     "metadata": {},
     "output_type": "execute_result"
    }
   ],
   "source": [
    "#Create an instance of the model and fit it to my data\n",
    "lm = LinearRegression().fit(x_train_scaled, y_train_scaled)\n",
    "\n",
    "# Predict on test\n",
    "test_predictions['simple_lm'] = lm.predict(x_test_scaled)\n",
    "\n",
    "test_predictions.head()"
   ]
  },
  {
   "cell_type": "code",
   "execution_count": 31,
   "id": "1a67d0b7",
   "metadata": {},
   "outputs": [
    {
     "name": "stdout",
     "output_type": "stream",
     "text": [
      "Test baseline RMSE: 270460.22757535306.\n"
     ]
    },
    {
     "data": {
      "text/plain": [
       "actual            0.000000\n",
       "simple_lm    222613.258374\n",
       "baseline     270460.227575\n",
       "dtype: float64"
      ]
     },
     "execution_count": 31,
     "metadata": {},
     "output_type": "execute_result"
    }
   ],
   "source": [
    "# Calculate root mean squared error (RMSE) for the test_predictions df\n",
    "def calculate_rmse(y_predicted):\n",
    "    return sqrt(mean_squared_error(test_predictions.actual, y_predicted))\n",
    "\n",
    "print('Test baseline RMSE: {}.'.format(test_rmse))\n",
    "test_predictions.apply(calculate_rmse).sort_values()"
   ]
  },
  {
   "cell_type": "code",
   "execution_count": 39,
   "id": "8849f2c8",
   "metadata": {},
   "outputs": [],
   "source": [
    "test_result = test_predictions.apply(calculate_rmse).sort_values()"
   ]
  },
  {
   "cell_type": "code",
   "execution_count": 34,
   "id": "faa06c8a",
   "metadata": {},
   "outputs": [
    {
     "name": "stdout",
     "output_type": "stream",
     "text": [
      "The model beat baseline by: 19.41%\n"
     ]
    }
   ],
   "source": [
    "# Finding by how much my model beat baseline \n",
    "model_percent = abs((test_result['simple_lm'] - test_rmse) / ((test_result['simple_lm'] + test_rmse) / 2))\n",
    "\n",
    "print(\"The model beat baseline by: \"+\"{:.2%}\".format(model_percent))"
   ]
  },
  {
   "cell_type": "markdown",
   "id": "e87764a0",
   "metadata": {},
   "source": [
    "**Success!** \\\n",
    "From this calculation on our test dataset, we can observe that my Linear Regression model successfully beat our baseline.\n",
    "\n",
    "**Our model performs 19.5% better than baseline**"
   ]
  },
  {
   "cell_type": "markdown",
   "id": "be51e379",
   "metadata": {},
   "source": [
    "## Conclusion"
   ]
  },
  {
   "cell_type": "markdown",
   "id": "1498f373",
   "metadata": {},
   "source": [
    "### Summary"
   ]
  },
  {
   "cell_type": "markdown",
   "id": "6c22ec97",
   "metadata": {},
   "source": [
    "In seeking solutions to more accurately predict home value for Zillow, we have explored a multiplicity of factors in the dataset that affect home value. We have shown that some potential primary drivers of home value are :\n",
    "\n",
    "- The number of bedrooms in a home\n",
    "- The number of bathrooms in a home \n",
    "- The number of garage spaces in a home\n",
    "- The location of a home by county\n",
    "- The square footage of a home\n",
    "\n",
    "The correlation of these features with home value, combined within our analysis and models, expresses confidence in the validity of our findings. We have created robust models that perform significantly better than our baseline estimated error of 270,460.\n",
    "\n",
    "Having fit the best performing model to our train, validate, and test datasets, we expect this model to perform 19.5% better than our baseline in the future on data it has not seen, given no major changes to our data source."
   ]
  },
  {
   "cell_type": "markdown",
   "id": "3acaa198",
   "metadata": {},
   "source": [
    "### Recommendations"
   ]
  },
  {
   "cell_type": "markdown",
   "id": "6fcf94f1",
   "metadata": {},
   "source": [
    "There are a number of recommendations that can be offered based on the above analysis. These suggestions are tied to the findings within our primary drivers of home value:\n",
    "\n",
    "1. Based on our exploration of bedroom and bathroom counts, collecting additional data on how many rooms are in a home, including more specific data on living spaces versus kitchens and other spaces\n",
    "2. Kitchen data, namely which major appliances and amenities are available in a given home. (ie. dishwasher, kitchen island, etc.)\n",
    "3. In collecting more nuanced data about a home, I suggest we send out email surveys prompting home owners with limited data on their home in the Zillow database to provide additional details about their residence."
   ]
  },
  {
   "cell_type": "markdown",
   "id": "eb2be0bc",
   "metadata": {},
   "source": [
    "### Next Steps"
   ]
  },
  {
   "cell_type": "markdown",
   "id": "f43426a5",
   "metadata": {},
   "source": [
    "Despite the overall effectiveness of our best-performing model, there is always room for improvement and optimization. \\\n",
    "If given more time to pursue a better results, I would begin by conducting further exploration and analysis of other features within our dataset. These features could include:\n",
    "- Whether a home has a pool\n",
    "- The square footage of the property, not just the home\n",
    "\n",
    "In addition to exploring other features, I would look into methods for more appropriately separating our data into additional housing categories. For example:\n",
    "- Calculating a ratio of home square footage against square footage of the entire property. This home to property ratio could be valuable.\n",
    "- Narrowing a home's location to pinpoint the city and specific neighborhood a home is in. \n",
    "\n",
    "By optimizing our dataset to include the above categories, I believe we could increase the correlation of our feature set with home value and improve model prediction accuracy."
   ]
  }
 ],
 "metadata": {
  "kernelspec": {
   "display_name": "Python 3.9.12 ('base')",
   "language": "python",
   "name": "python3"
  },
  "language_info": {
   "codemirror_mode": {
    "name": "ipython",
    "version": 3
   },
   "file_extension": ".py",
   "mimetype": "text/x-python",
   "name": "python",
   "nbconvert_exporter": "python",
   "pygments_lexer": "ipython3",
   "version": "3.9.12"
  },
  "vscode": {
   "interpreter": {
    "hash": "3067ead486e059ec00ffe7555bdb889e6e264a24dc711bf108106cc7baee8d5d"
   }
  }
 },
 "nbformat": 4,
 "nbformat_minor": 5
}
